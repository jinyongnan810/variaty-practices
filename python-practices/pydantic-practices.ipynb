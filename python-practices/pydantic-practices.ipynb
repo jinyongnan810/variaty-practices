{
 "cells": [
  {
   "cell_type": "markdown",
   "id": "33dd7c36",
   "metadata": {},
   "source": [
    "## Pydantic Practices\n",
    "https://docs.pydantic.dev/latest/"
   ]
  },
  {
   "cell_type": "markdown",
   "id": "c4cfe2e4",
   "metadata": {},
   "source": [
    "### Basic Usage"
   ]
  },
  {
   "cell_type": "code",
   "execution_count": 1,
   "id": "f4ab7edd",
   "metadata": {},
   "outputs": [
    {
     "name": "stdout",
     "output_type": "stream",
     "text": [
      "name='Alice' email='alice@example.com' age=30 bio='Data scientist who loves clean code.'\n",
      "Serialized to dict: {'name': 'Alice', 'email': 'alice@example.com', 'age': 30, 'bio': 'Data scientist who loves clean code.'}\n",
      "Serialized to JSON: {\"name\":\"Alice\",\"email\":\"alice@example.com\",\"age\":30,\"bio\":\"Data scientist who loves clean code.\"}\n",
      "\n",
      "Invalid input caught:\n",
      "3 validation errors for User\n",
      "name\n",
      "  String should have at least 2 characters [type=string_too_short, input_value='A', input_type=str]\n",
      "    For further information visit https://errors.pydantic.dev/2.11/v/string_too_short\n",
      "email\n",
      "  value is not a valid email address: An email address must have an @-sign. [type=value_error, input_value='not-an-email', input_type=str]\n",
      "age\n",
      "  Input should be less than 120 [type=less_than, input_value=150, input_type=int]\n",
      "    For further information visit https://errors.pydantic.dev/2.11/v/less_than\n"
     ]
    }
   ],
   "source": [
    "from pydantic import BaseModel, EmailStr, Field, ValidationError\n",
    "from typing import Optional\n",
    "\n",
    "class User(BaseModel):\n",
    "    name: str = Field(..., min_length=2, max_length=50)\n",
    "    email: EmailStr\n",
    "    age: int = Field(..., gt=0, lt=120)\n",
    "    bio: Optional[str] = Field(default=None, max_length=300)\n",
    "\n",
    "# Valid input\n",
    "try:\n",
    "    user = User(\n",
    "        name=\"Alice\",\n",
    "        email=\"alice@example.com\",\n",
    "        age=30,\n",
    "        bio=\"Data scientist who loves clean code.\"\n",
    "    )\n",
    "    print(user)\n",
    "    print(\"Serialized to dict:\", user.model_dump())\n",
    "    print(\"Serialized to JSON:\", user.model_dump_json())\n",
    "except ValidationError as e:\n",
    "    print(\"Validation error:\", e)\n",
    "\n",
    "# Invalid input example\n",
    "try:\n",
    "    invalid_user = User(\n",
    "        name=\"A\",\n",
    "        email=\"not-an-email\",\n",
    "        age=150\n",
    "    )\n",
    "except ValidationError as e:\n",
    "    print(\"\\nInvalid input caught:\")\n",
    "    print(e)\n"
   ]
  },
  {
   "cell_type": "markdown",
   "id": "e0a25ec4",
   "metadata": {},
   "source": [
    "### Nested Data"
   ]
  },
  {
   "cell_type": "code",
   "execution_count": 5,
   "id": "4a716608",
   "metadata": {},
   "outputs": [
    {
     "name": "stdout",
     "output_type": "stream",
     "text": [
      "Parsed Order: user=User(id=123, name='Alice', email='alice@example.com') items=[Item(name='Keyboard', price=49.99, tags=['electronics', 'accessories']), Item(name='Mouse', price=19.99, tags=['electronics'])] total=69.98\n",
      "Invalid order data caught:\n",
      "3 validation errors for Order\n",
      "user.name\n",
      "  String should have at least 1 character [type=string_too_short, input_value='', input_type=str]\n",
      "    For further information visit https://errors.pydantic.dev/2.11/v/string_too_short\n",
      "items.0.price\n",
      "  Input should be greater than 0 [type=greater_than, input_value=-100, input_type=int]\n",
      "    For further information visit https://errors.pydantic.dev/2.11/v/greater_than\n",
      "items.0.tags\n",
      "  Field required [type=missing, input_value={'name': 'Monitor', 'price': -100}, input_type=dict]\n",
      "    For further information visit https://errors.pydantic.dev/2.11/v/missing\n",
      "Invalid order data caught:\n",
      "1 validation error for Order\n",
      "items.1.tags\n",
      "  List should have at least 1 item after validation, not 0 [type=too_short, input_value=[], input_type=list]\n",
      "    For further information visit https://errors.pydantic.dev/2.11/v/too_short\n"
     ]
    }
   ],
   "source": [
    "from pydantic import BaseModel, Field, StringConstraints\n",
    "from typing import List, Annotated\n",
    "\n",
    "class Item(BaseModel):\n",
    "    name: str = Field(..., min_length=1)\n",
    "    price: float = Field(..., gt=0, le=100)\n",
    "    tags: list[Annotated[str, StringConstraints(min_length=1)]] = Field(min_length=1)\n",
    "\n",
    "class User(BaseModel):\n",
    "    id: int\n",
    "    name: str = Field(..., min_length=1)\n",
    "    email: str\n",
    "\n",
    "class Order(BaseModel):\n",
    "    user: User\n",
    "    items: List[Item]\n",
    "    total: float\n",
    "order_data = {\n",
    "    \"user\": {\n",
    "        \"id\": 123,\n",
    "        \"name\": \"Alice\",\n",
    "        \"email\": \"alice@example.com\"\n",
    "    },\n",
    "    \"items\": [\n",
    "        {\"name\": \"Keyboard\", \"price\": 49.99, \"tags\": [\"electronics\", \"accessories\"]},\n",
    "        {\"name\": \"Mouse\", \"price\": 19.99, \"tags\": [\"electronics\"]}\n",
    "    ],\n",
    "    \"total\": 69.98\n",
    "}\n",
    "try:\n",
    "    order = Order(**order_data)\n",
    "    print(\"Parsed Order:\", order)\n",
    "except Exception as e:\n",
    "    print(\"Validation failed:\", e)\n",
    "\n",
    "invalid_data1 = {\n",
    "    \"user\": {\"id\": 1, \"name\": \"\", \"email\": \"bob@example.com\"},\n",
    "    \"items\": [{\"name\": \"Monitor\", \"price\": -100}],\n",
    "    \"total\": -100\n",
    "}\n",
    "try:\n",
    "    Order(**invalid_data1)\n",
    "except ValidationError as e:\n",
    "    print(\"Invalid order data caught:\")\n",
    "    print(e)\n",
    "\n",
    "invalid_data1 = {\n",
    "    \"user\": {\n",
    "        \"id\": 123,\n",
    "        \"name\": \"Alice\",\n",
    "        \"email\": \"alice@example.com\"\n",
    "    },\n",
    "    \"items\": [\n",
    "        {\"name\": \"Keyboard\", \"price\": 49.99, \"tags\": [\"electronics\", \"accessories\"]},\n",
    "        {\"name\": \"Mouse\", \"price\": 19.99, \"tags\": []}\n",
    "    ],\n",
    "    \"total\": 69.98\n",
    "}\n",
    "try:\n",
    "    Order(**invalid_data1)\n",
    "except ValidationError as e:\n",
    "    print(\"Invalid order data caught:\")\n",
    "    print(e)\n"
   ]
  },
  {
   "cell_type": "markdown",
   "id": "146a3468",
   "metadata": {},
   "source": [
    "### Custom Validation"
   ]
  },
  {
   "cell_type": "code",
   "execution_count": 3,
   "id": "4ef5cd6e",
   "metadata": {},
   "outputs": [
    {
     "name": "stdout",
     "output_type": "stream",
     "text": [
      "Valid model: value1=10.0 value2=4.0\n",
      "Validation failed:\n",
      " 1 validation error for MyModel\n",
      "  Value error, value1 must be more than twice value2 [type=value_error, input_value={'value1': 6, 'value2': 4}, input_type=dict]\n",
      "    For further information visit https://errors.pydantic.dev/2.11/v/value_error\n"
     ]
    }
   ],
   "source": [
    "from pydantic import BaseModel, Field, ValidationError, model_validator\n",
    "\n",
    "class MyModel(BaseModel):\n",
    "    value1: float = Field(..., gt=0)\n",
    "    value2: float = Field(..., gt=0)\n",
    "\n",
    "    @model_validator(mode='after')\n",
    "    def check_values(cls, model):\n",
    "        if model.value1 <= 2 * model.value2:\n",
    "            raise ValueError(\"value1 must be more than twice value2\")\n",
    "        return model\n",
    "\n",
    "# ✅ Valid example\n",
    "try:\n",
    "    m = MyModel(value1=10, value2=4)\n",
    "    print(\"Valid model:\", m)\n",
    "except ValidationError as e:\n",
    "    print(e)\n",
    "\n",
    "# ❌ Invalid example\n",
    "try:\n",
    "    m = MyModel(value1=6, value2=4)\n",
    "except ValidationError as e:\n",
    "    print(\"Validation failed:\\n\", e)\n"
   ]
  },
  {
   "cell_type": "markdown",
   "id": "f80b0500",
   "metadata": {},
   "source": [
    "### BaseSettings and env"
   ]
  },
  {
   "cell_type": "code",
   "execution_count": 4,
   "id": "03bd19b8",
   "metadata": {},
   "outputs": [
    {
     "name": "stdout",
     "output_type": "stream",
     "text": [
      "Settings loaded: app_name='test-app' debug=True port=7777 db_url='test-db-url'\n"
     ]
    }
   ],
   "source": [
    "from pydantic import Field, ConfigDict\n",
    "from pydantic_settings import BaseSettings\n",
    "\n",
    "class Settings(BaseSettings):\n",
    "    app_name: str = Field(\"MyApp\", env=\"APP_NAME\", min_length=3)\n",
    "    debug: bool = Field(False, env=\"DEBUG\")\n",
    "    port: int = Field(8000, env=\"PORT\")\n",
    "    db_url: str = Field(\"hi\", env=\"DB_URL\", min_length=5)\n",
    "\n",
    "    model_config = ConfigDict(\n",
    "        env_file=\".env\",\n",
    "    )\n",
    "\n",
    "try:\n",
    "    settings = Settings()\n",
    "    print(\"Settings loaded:\", settings)\n",
    "except ValidationError as e:\n",
    "    print(\"Settings validation error:\", e)\n"
   ]
  }
 ],
 "metadata": {
  "kernelspec": {
   "display_name": "3.9.10",
   "language": "python",
   "name": "python3"
  },
  "language_info": {
   "codemirror_mode": {
    "name": "ipython",
    "version": 3
   },
   "file_extension": ".py",
   "mimetype": "text/x-python",
   "name": "python",
   "nbconvert_exporter": "python",
   "pygments_lexer": "ipython3",
   "version": "3.9.10"
  }
 },
 "nbformat": 4,
 "nbformat_minor": 5
}
