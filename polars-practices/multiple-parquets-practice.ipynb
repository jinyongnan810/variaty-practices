{
 "cells": [
  {
   "cell_type": "markdown",
   "id": "063af8a9",
   "metadata": {},
   "source": [
    "## Handle multiple parquets "
   ]
  },
  {
   "cell_type": "code",
   "execution_count": 19,
   "id": "1cd7cfad",
   "metadata": {},
   "outputs": [
    {
     "name": "stderr",
     "output_type": "stream",
     "text": [
      "/Users/kin/.pyenv/versions/3.9.10/lib/python3.9/functools.py:888: DataOrientationWarning: Row orientation inferred during DataFrame construction. Explicitly specify the orientation by passing `orient=\"row\"` to silence this warning.\n",
      "  return dispatch(args[0].__class__)(*args, **kw)\n"
     ]
    }
   ],
   "source": [
    "import polars as pl\n",
    "import numpy as np\n",
    "from datetime import datetime, timedelta\n",
    "import os\n",
    "\n",
    "# 1. Create dataframe for 100 devices, 1000 metrics, 20 timestamps each\n",
    "def generate_data():\n",
    "    records = []\n",
    "    start_date = datetime(2023, 10, 1)\n",
    "\n",
    "    # for d in range(500):\n",
    "    for d in range(20):\n",
    "        device = f\"device_{d}\"\n",
    "        for m in range(60000):\n",
    "            metric = f\"metric_{m}\"\n",
    "            for i in range(20):\n",
    "                timestamp = start_date + timedelta(days=i)\n",
    "                value = np.random.rand()\n",
    "                value2 = np.random.rand() if i < 19 else None\n",
    "                records.append((device, metric, timestamp, value, value2))\n",
    "    \n",
    "    return pl.DataFrame(\n",
    "        records,\n",
    "        schema=[\"device\", \"metric\", \"timestamp\", \"value\", \"value2\"]\n",
    "    )\n",
    "# 2. Save to Parquet partitioned by device\n",
    "def save_partitioned(df: pl.DataFrame, base_dir: str):\n",
    "    os.makedirs(base_dir, exist_ok=True)\n",
    "    devices = df.select(\"device\").unique().to_series().to_list()\n",
    "    for device in devices:\n",
    "        device_df = df.filter(pl.col(\"device\") == device)\n",
    "        path = os.path.join(base_dir, f\"{device}.parquet\")\n",
    "        device_df.write_parquet(path)\n",
    "\n",
    "# Step 1\n",
    "df = generate_data()\n",
    "\n",
    "# Step 2\n",
    "save_partitioned(df, \"device_data\")"
   ]
  },
  {
   "cell_type": "code",
   "execution_count": 20,
   "id": "8de07818",
   "metadata": {},
   "outputs": [],
   "source": [
    "\n",
    "# 3. Load data for specific devices\n",
    "def load_devices(devices, base_dir):\n",
    "    dfs = []\n",
    "    for device in devices:\n",
    "        path = os.path.join(base_dir, f\"{device}.parquet\")\n",
    "        if os.path.exists(path):\n",
    "            dfs.append(pl.read_parquet(path))\n",
    "    return pl.concat(dfs)\n",
    "\n",
    "# 4. Modify values\n",
    "def modify_data(df: pl.DataFrame):\n",
    "    return df.with_columns([\n",
    "        (pl.col(\"value\") * 2).alias(\"value\")\n",
    "    ])\n",
    "\n",
    "# 5. Save modified data back\n",
    "def save_modified_devices(df: pl.DataFrame, base_dir: str):\n",
    "    devices = df.select(\"device\").unique().to_series().to_list()\n",
    "    for device in devices:\n",
    "        device_df = df.filter(pl.col(\"device\") == device)\n",
    "        path = os.path.join(base_dir, f\"{device}.parquet\")\n",
    "        device_df.write_parquet(path)\n",
    "\n",
    "# === Run everything ===\n",
    "\n",
    "\n",
    "\n",
    "# Step 3\n",
    "selected_devices = [\"device_1\", \"device_2\", \"device_3\"]\n",
    "subset = load_devices(selected_devices, \"device_data\")\n",
    "\n",
    "# Step 4\n",
    "modified = modify_data(subset)\n",
    "\n",
    "# Step 5\n",
    "save_modified_devices(modified, \"device_data\")\n"
   ]
  },
  {
   "cell_type": "markdown",
   "id": "1519d36e",
   "metadata": {},
   "source": [
    "## Using Polars Lazy API"
   ]
  },
  {
   "cell_type": "code",
   "execution_count": 21,
   "id": "06e42d24",
   "metadata": {},
   "outputs": [],
   "source": [
    "\n",
    "# 3. Load data lazily for selected devices\n",
    "def load_devices_lazy(devices, base_dir):\n",
    "    lazy_dfs = []\n",
    "    for device in devices:\n",
    "        path = os.path.join(base_dir, f\"{device}.parquet\")\n",
    "        if os.path.exists(path):\n",
    "            lazy_dfs.append(pl.read_parquet(path, use_pyarrow=True).lazy())\n",
    "    return pl.concat(lazy_dfs)\n",
    "\n",
    "# 4. Modify lazily (deferred execution)\n",
    "def modify_data_lazy(lazy_df: pl.LazyFrame):\n",
    "    return lazy_df.with_columns([\n",
    "        (pl.col(\"value\") * 2).alias(\"value\")\n",
    "    ])\n",
    "\n",
    "# 5. Save each device's data (still need to collect before writing)\n",
    "def save_modified_devices_lazy(lazy_df: pl.LazyFrame, base_dir: str):\n",
    "    df = lazy_df.collect()  # Materialize once after transformations\n",
    "    devices = df.select(\"device\").unique().to_series().to_list()\n",
    "    for device in devices:\n",
    "        device_df = df.filter(pl.col(\"device\") == device)\n",
    "        path = os.path.join(base_dir, f\"{device}.parquet\")\n",
    "        device_df.write_parquet(path)\n",
    "\n",
    "# === Run the pipeline ===\n",
    "\n",
    "# Step 3\n",
    "selected_devices = [\"device_1\", \"device_2\", \"device_3\"]\n",
    "lazy_subset = load_devices_lazy(selected_devices, \"device_data\")\n",
    "\n",
    "# Step 4\n",
    "lazy_modified = modify_data_lazy(lazy_subset)\n",
    "\n",
    "# Step 5\n",
    "save_modified_devices_lazy(lazy_modified, \"device_data\")\n"
   ]
  },
  {
   "cell_type": "markdown",
   "id": "d26a056b",
   "metadata": {},
   "source": [
    "## Compare with Pandas\n",
    "\n",
    "Current conclusion: not so different."
   ]
  },
  {
   "cell_type": "code",
   "execution_count": 22,
   "id": "59d67874",
   "metadata": {},
   "outputs": [],
   "source": [
    "import pandas as pd\n",
    "import numpy as np\n",
    "from datetime import datetime, timedelta\n",
    "import os\n",
    "\n",
    "# 1. Generate Data\n",
    "def generate_data():\n",
    "    records = []\n",
    "    start_date = datetime(2023, 10, 1)\n",
    "\n",
    "    for d in range(20):\n",
    "        device = f\"device_{d}\"\n",
    "        for m in range(60000):\n",
    "            metric = f\"metric_{m}\"\n",
    "            for i in range(20):\n",
    "                timestamp = start_date + timedelta(days=i)\n",
    "                value = np.random.rand()\n",
    "                value2 = np.random.rand() if i < 19 else None\n",
    "                records.append((device, metric, timestamp, value, value2))\n",
    "\n",
    "    df = pd.DataFrame(\n",
    "        records,\n",
    "        columns=[\"device\", \"metric\", \"timestamp\", \"value\", \"value2\"]\n",
    "    )\n",
    "    return df\n",
    "\n",
    "# 2. Save per device\n",
    "def save_partitioned_by_device(df, base_dir):\n",
    "    os.makedirs(base_dir, exist_ok=True)\n",
    "    for device, group in df.groupby(\"device\"):\n",
    "        group.to_parquet(os.path.join(base_dir, f\"{device}.parquet\"), index=False)\n",
    "\n",
    "# 3. Load selected devices\n",
    "def load_devices(devices, base_dir):\n",
    "    dfs = []\n",
    "    for device in devices:\n",
    "        path = os.path.join(base_dir, f\"{device}.parquet\")\n",
    "        if os.path.exists(path):\n",
    "            dfs.append(pd.read_parquet(path))\n",
    "    return pd.concat(dfs, ignore_index=True)\n",
    "\n",
    "# 4. Modify\n",
    "def modify(df):\n",
    "    df[\"value\"] *= 2\n",
    "    return df\n",
    "\n",
    "# 5. Save back\n",
    "def save_modified_devices(df, base_dir):\n",
    "    for device, group in df.groupby(\"device\"):\n",
    "        group.to_parquet(os.path.join(base_dir, f\"{device}.parquet\"), index=False)\n",
    "\n",
    "# === Run ===\n",
    "\n",
    "# Step 1\n",
    "df = generate_data()\n",
    "\n",
    "# Step 2\n",
    "save_partitioned_by_device(df, \"pandas_device_data\")\n"
   ]
  },
  {
   "cell_type": "code",
   "execution_count": 23,
   "id": "2c43eb62",
   "metadata": {},
   "outputs": [],
   "source": [
    "\n",
    "# Step 3\n",
    "selected = [\"device_1\", \"device_2\", \"device_3\"]\n",
    "subset = load_devices(selected, \"pandas_device_data\")\n",
    "\n",
    "# Step 4\n",
    "modified = modify(subset)\n",
    "\n",
    "# Step 5\n",
    "save_modified_devices(modified, \"pandas_device_data\")"
   ]
  },
  {
   "cell_type": "code",
   "execution_count": 2,
   "id": "048ec3e0",
   "metadata": {},
   "outputs": [
    {
     "data": {
      "text/plain": [
       "'./folder/my file.json'"
      ]
     },
     "execution_count": 2,
     "metadata": {},
     "output_type": "execute_result"
    }
   ],
   "source": [
    "import os\n",
    "os.path.join(\"./folder\",\"my file.json\")"
   ]
  }
 ],
 "metadata": {
  "kernelspec": {
   "display_name": "3.9.10",
   "language": "python",
   "name": "python3"
  },
  "language_info": {
   "codemirror_mode": {
    "name": "ipython",
    "version": 3
   },
   "file_extension": ".py",
   "mimetype": "text/x-python",
   "name": "python",
   "nbconvert_exporter": "python",
   "pygments_lexer": "ipython3",
   "version": "3.9.10"
  }
 },
 "nbformat": 4,
 "nbformat_minor": 5
}
